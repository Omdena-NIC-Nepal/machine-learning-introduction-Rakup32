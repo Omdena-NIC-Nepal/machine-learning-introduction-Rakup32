{
 "cells": [
  {
   "cell_type": "markdown",
   "id": "545ee9d5-6c59-4c8d-8892-c64a6f3db87d",
   "metadata": {},
   "source": [
    "# Data Preprocessing Steps:\n",
    "\n",
    "# 1.Handle missing values and outliers.\n",
    "# 2.Encode categorical variables.\n",
    "# 3.Normalize/standardize numerical features.\n",
    "# 4.Split the data into training and testing sets.\n",
    "# 5.Script: scripts/data_preprocessing.py"
   ]
  },
  {
   "cell_type": "markdown",
   "id": "b4afacd8-0544-47e6-8735-1fce98898df3",
   "metadata": {},
   "source": [
    "# Importing library "
   ]
  },
  {
   "cell_type": "code",
   "execution_count": 1,
   "id": "6fe5360a-6177-45ca-afed-16a2ba32244a",
   "metadata": {},
   "outputs": [],
   "source": [
    "import pandas as pd\n",
    "from sklearn.model_selection import train_test_split\n",
    "from sklearn.preprocessing import StandardScaler"
   ]
  },
  {
   "cell_type": "markdown",
   "id": "e7d5cf41-f33b-4c6b-928d-ce7f944bbefa",
   "metadata": {},
   "source": [
    "# Load DataFrame  from eda.ipynb"
   ]
  },
  {
   "cell_type": "code",
   "execution_count": 2,
   "id": "a4186e18-31e2-460c-a4fe-6bb1402bd272",
   "metadata": {},
   "outputs": [
    {
     "data": {
      "text/html": [
       "<div>\n",
       "<style scoped>\n",
       "    .dataframe tbody tr th:only-of-type {\n",
       "        vertical-align: middle;\n",
       "    }\n",
       "\n",
       "    .dataframe tbody tr th {\n",
       "        vertical-align: top;\n",
       "    }\n",
       "\n",
       "    .dataframe thead th {\n",
       "        text-align: right;\n",
       "    }\n",
       "</style>\n",
       "<table border=\"1\" class=\"dataframe\">\n",
       "  <thead>\n",
       "    <tr style=\"text-align: right;\">\n",
       "      <th></th>\n",
       "      <th>crim</th>\n",
       "      <th>zn</th>\n",
       "      <th>indus</th>\n",
       "      <th>chas</th>\n",
       "      <th>nox</th>\n",
       "      <th>rm</th>\n",
       "      <th>age</th>\n",
       "      <th>dis</th>\n",
       "      <th>rad</th>\n",
       "      <th>tax</th>\n",
       "      <th>ptratio</th>\n",
       "      <th>b</th>\n",
       "      <th>lstat</th>\n",
       "      <th>medv</th>\n",
       "    </tr>\n",
       "  </thead>\n",
       "  <tbody>\n",
       "    <tr>\n",
       "      <th>0</th>\n",
       "      <td>0.00632</td>\n",
       "      <td>18.0</td>\n",
       "      <td>2.31</td>\n",
       "      <td>0</td>\n",
       "      <td>0.538</td>\n",
       "      <td>6.575</td>\n",
       "      <td>65.2</td>\n",
       "      <td>4.0900</td>\n",
       "      <td>1</td>\n",
       "      <td>296</td>\n",
       "      <td>15.3</td>\n",
       "      <td>396.90</td>\n",
       "      <td>4.98</td>\n",
       "      <td>24.0</td>\n",
       "    </tr>\n",
       "    <tr>\n",
       "      <th>1</th>\n",
       "      <td>0.02731</td>\n",
       "      <td>0.0</td>\n",
       "      <td>7.07</td>\n",
       "      <td>0</td>\n",
       "      <td>0.469</td>\n",
       "      <td>6.421</td>\n",
       "      <td>78.9</td>\n",
       "      <td>4.9671</td>\n",
       "      <td>2</td>\n",
       "      <td>242</td>\n",
       "      <td>17.8</td>\n",
       "      <td>396.90</td>\n",
       "      <td>9.14</td>\n",
       "      <td>21.6</td>\n",
       "    </tr>\n",
       "    <tr>\n",
       "      <th>2</th>\n",
       "      <td>0.02729</td>\n",
       "      <td>0.0</td>\n",
       "      <td>7.07</td>\n",
       "      <td>0</td>\n",
       "      <td>0.469</td>\n",
       "      <td>7.185</td>\n",
       "      <td>61.1</td>\n",
       "      <td>4.9671</td>\n",
       "      <td>2</td>\n",
       "      <td>242</td>\n",
       "      <td>17.8</td>\n",
       "      <td>392.83</td>\n",
       "      <td>4.03</td>\n",
       "      <td>34.7</td>\n",
       "    </tr>\n",
       "    <tr>\n",
       "      <th>3</th>\n",
       "      <td>0.03237</td>\n",
       "      <td>0.0</td>\n",
       "      <td>2.18</td>\n",
       "      <td>0</td>\n",
       "      <td>0.458</td>\n",
       "      <td>6.998</td>\n",
       "      <td>45.8</td>\n",
       "      <td>6.0622</td>\n",
       "      <td>3</td>\n",
       "      <td>222</td>\n",
       "      <td>18.7</td>\n",
       "      <td>394.63</td>\n",
       "      <td>2.94</td>\n",
       "      <td>33.4</td>\n",
       "    </tr>\n",
       "    <tr>\n",
       "      <th>4</th>\n",
       "      <td>0.06905</td>\n",
       "      <td>0.0</td>\n",
       "      <td>2.18</td>\n",
       "      <td>0</td>\n",
       "      <td>0.458</td>\n",
       "      <td>7.147</td>\n",
       "      <td>54.2</td>\n",
       "      <td>6.0622</td>\n",
       "      <td>3</td>\n",
       "      <td>222</td>\n",
       "      <td>18.7</td>\n",
       "      <td>396.90</td>\n",
       "      <td>5.33</td>\n",
       "      <td>36.2</td>\n",
       "    </tr>\n",
       "  </tbody>\n",
       "</table>\n",
       "</div>"
      ],
      "text/plain": [
       "      crim    zn  indus  chas    nox     rm   age     dis  rad  tax  ptratio  \\\n",
       "0  0.00632  18.0   2.31     0  0.538  6.575  65.2  4.0900    1  296     15.3   \n",
       "1  0.02731   0.0   7.07     0  0.469  6.421  78.9  4.9671    2  242     17.8   \n",
       "2  0.02729   0.0   7.07     0  0.469  7.185  61.1  4.9671    2  242     17.8   \n",
       "3  0.03237   0.0   2.18     0  0.458  6.998  45.8  6.0622    3  222     18.7   \n",
       "4  0.06905   0.0   2.18     0  0.458  7.147  54.2  6.0622    3  222     18.7   \n",
       "\n",
       "        b  lstat  medv  \n",
       "0  396.90   4.98  24.0  \n",
       "1  396.90   9.14  21.6  \n",
       "2  392.83   4.03  34.7  \n",
       "3  394.63   2.94  33.4  \n",
       "4  396.90   5.33  36.2  "
      ]
     },
     "execution_count": 2,
     "metadata": {},
     "output_type": "execute_result"
    }
   ],
   "source": [
    "df = pd.read_pickle(\"eda_dataframe.pkl\")  # Load DataFrame  \n",
    "df.head()\n"
   ]
  },
  {
   "cell_type": "markdown",
   "id": "275636b4-b5f6-41a6-87e0-e4fc9a62c0de",
   "metadata": {},
   "source": [
    "# Check for missing values"
   ]
  },
  {
   "cell_type": "code",
   "execution_count": 3,
   "id": "892d0cdf-13a7-403c-9d1c-44cb5b3ba4b8",
   "metadata": {},
   "outputs": [
    {
     "name": "stdout",
     "output_type": "stream",
     "text": [
      "Missing Values:\n",
      " crim       0\n",
      "zn         0\n",
      "indus      0\n",
      "chas       0\n",
      "nox        0\n",
      "rm         5\n",
      "age        0\n",
      "dis        0\n",
      "rad        0\n",
      "tax        0\n",
      "ptratio    0\n",
      "b          0\n",
      "lstat      0\n",
      "medv       0\n",
      "dtype: int64\n"
     ]
    }
   ],
   "source": [
    "print(\"Missing Values:\\n\", df.isnull().sum())"
   ]
  },
  {
   "cell_type": "markdown",
   "id": "a976a98e-09b0-4d73-bd70-dc12a31db3d1",
   "metadata": {},
   "source": [
    "# Handling missing values (if any)"
   ]
  },
  {
   "cell_type": "code",
   "execution_count": 4,
   "id": "ce65ff34-fbe4-4313-8f0b-25e9370e89f0",
   "metadata": {},
   "outputs": [],
   "source": [
    "df = df.dropna()  # Drop rows with missing values"
   ]
  },
  {
   "cell_type": "markdown",
   "id": "014f73c3-58cd-4e00-90f4-18515d4180a2",
   "metadata": {},
   "source": [
    "# Define features and target"
   ]
  },
  {
   "cell_type": "code",
   "execution_count": 5,
   "id": "8ff681d2-214f-444b-8637-dd2c4574b610",
   "metadata": {},
   "outputs": [],
   "source": [
    "target_column = \"medv\"  # Target variable\n",
    "feature_names = [col for col in df.columns if col != target_column]\n",
    "X = df[feature_names]  # Features\n",
    "y = df[target_column]  # Target"
   ]
  },
  {
   "cell_type": "markdown",
   "id": "86f8f18c-882f-40f7-8528-63168f70eee1",
   "metadata": {},
   "source": [
    "# Splitting data into training and testing sets"
   ]
  },
  {
   "cell_type": "code",
   "execution_count": 6,
   "id": "6a483b30-cc3c-4a7b-b07a-7dd7fb4bf707",
   "metadata": {},
   "outputs": [],
   "source": [
    "X_train, X_test, y_train, y_test = train_test_split(X, y, test_size=0.2, random_state=42)"
   ]
  },
  {
   "cell_type": "markdown",
   "id": "a86eda62-4d73-421a-b074-2068969337b4",
   "metadata": {},
   "source": [
    "# Feature Scaling (Standardization)"
   ]
  },
  {
   "cell_type": "code",
   "execution_count": 7,
   "id": "82edaf20-b375-484c-bf46-079d3ab75e07",
   "metadata": {},
   "outputs": [],
   "source": [
    "scaler = StandardScaler()\n",
    "X_train_scaled = scaler.fit_transform(X_train)\n",
    "X_test_scaled = scaler.transform(X_test)"
   ]
  },
  {
   "cell_type": "code",
   "execution_count": 8,
   "id": "23f868ba-f105-429f-8794-cba85c8cbabf",
   "metadata": {},
   "outputs": [],
   "source": [
    "# Convert back to DataFrame for better visualization"
   ]
  },
  {
   "cell_type": "code",
   "execution_count": 9,
   "id": "a42aea37-a895-4571-9876-ccd590f5f96e",
   "metadata": {},
   "outputs": [],
   "source": [
    "X_train = pd.DataFrame(X_train_scaled, columns=feature_names)\n",
    "X_test = pd.DataFrame(X_test_scaled, columns=feature_names)\n"
   ]
  },
  {
   "cell_type": "markdown",
   "id": "ac805951-007a-43d5-9eea-64e44a6399e7",
   "metadata": {},
   "source": [
    "# Save processed data for future use"
   ]
  },
  {
   "cell_type": "code",
   "execution_count": 10,
   "id": "865361d4-9c0c-4996-85ec-4c4cc3db7ed7",
   "metadata": {},
   "outputs": [],
   "source": [
    "X_train.to_pickle(\"X_train.pkl\")\n",
    "X_test.to_pickle(\"X_test.pkl\")\n",
    "y_train.to_pickle(\"y_train.pkl\")\n",
    "y_test.to_pickle(\"y_test.pkl\")"
   ]
  },
  {
   "cell_type": "markdown",
   "id": "ae838196-beb7-44d6-9c61-ed50ed86e7d6",
   "metadata": {},
   "source": [
    "# Display processed data"
   ]
  },
  {
   "cell_type": "code",
   "execution_count": 11,
   "id": "b457ed6f-1332-4f24-a0f0-c7e4fcb815f3",
   "metadata": {},
   "outputs": [
    {
     "name": "stdout",
     "output_type": "stream",
     "text": [
      "\n",
      "Processed Training Data (First 5 Rows):\n",
      "        crim        zn     indus      chas       nox        rm       age  \\\n",
      "0  0.222294 -0.502097  1.012274 -0.274352  1.240722 -0.358344  0.484634   \n",
      "1 -0.285655 -0.502097 -0.439558 -0.274352 -0.158048 -1.035880  1.048962   \n",
      "2 -0.412698 -0.502097 -0.550341 -0.274352 -0.546595 -0.313269 -0.918950   \n",
      "3 -0.439171 -0.502097 -0.869569 -0.274352 -0.356639 -0.578085 -0.343770   \n",
      "4 -0.423580  0.563587 -0.878315 -0.274352 -0.891971 -0.225936 -1.443485   \n",
      "\n",
      "        dis       rad       tax   ptratio         b     lstat  \n",
      "0 -0.754029  1.653081  1.545351  0.819287  0.226521  0.909098  \n",
      "1  0.010513 -0.653678 -0.588833  1.186012  0.206020  1.234700  \n",
      "2  0.769379 -0.538340 -0.707729  0.544243  0.436283  0.048991  \n",
      "3  0.862760 -0.538340 -1.082251  0.819287  0.412611 -0.272288  \n",
      "4  1.894499 -0.192326 -0.725563  0.590084  0.365833 -0.805352  \n",
      "\n",
      "Processed Test Data (First 5 Rows):\n",
      "         crim        zn     indus      chas       nox        rm       age  \\\n",
      "0   1.256621 -0.502097  1.012274 -0.274352  0.644950 -3.440356  1.117694   \n",
      "1  -0.430232 -0.502097  0.244086 -0.274352 -1.030121 -0.037183  0.195236   \n",
      "2  10.740483 -0.502097  1.012274 -0.274352  0.990325  0.933341  0.824678   \n",
      "3  -0.282931 -0.502097  1.228008  3.644957  0.420456 -0.078033  0.850000   \n",
      "4  -0.426902 -0.502097 -0.378336 -0.274352 -0.313467  0.237493  1.012787   \n",
      "\n",
      "        dis       rad       tax   ptratio         b     lstat  \n",
      "0 -1.062266  1.653081  1.545351  0.819287 -2.570607  0.126790  \n",
      "1  0.129783 -0.538340 -0.047856  0.131677  0.173061 -0.069147  \n",
      "2 -1.106400  1.653081  1.545351  0.819287  0.436283  0.685787  \n",
      "3 -0.927283 -0.538340 -0.018132 -1.701948 -0.220413 -1.001289  \n",
      "4 -0.629693 -0.538340 -0.131083  1.140171  0.417481 -0.025926  \n"
     ]
    }
   ],
   "source": [
    "print(\"\\nProcessed Training Data (First 5 Rows):\\n\", X_train.head())\n",
    "print(\"\\nProcessed Test Data (First 5 Rows):\\n\", X_test.head())"
   ]
  },
  {
   "cell_type": "code",
   "execution_count": null,
   "id": "2ab30a5a-d9cc-425f-b713-004c44c8673e",
   "metadata": {},
   "outputs": [],
   "source": []
  }
 ],
 "metadata": {
  "kernelspec": {
   "display_name": "Python 3 (ipykernel)",
   "language": "python",
   "name": "python3"
  },
  "language_info": {
   "codemirror_mode": {
    "name": "ipython",
    "version": 3
   },
   "file_extension": ".py",
   "mimetype": "text/x-python",
   "name": "python",
   "nbconvert_exporter": "python",
   "pygments_lexer": "ipython3",
   "version": "3.12.3"
  }
 },
 "nbformat": 4,
 "nbformat_minor": 5
}
